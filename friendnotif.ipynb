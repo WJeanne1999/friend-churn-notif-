{
  "cells": [
    {
      "cell_type": "markdown",
      "metadata": {
        "id": "view-in-github",
        "colab_type": "text"
      },
      "source": [
        "<a href=\"https://colab.research.google.com/github/WJeanne1999/friend-churn-notif-/blob/main/friendnotif.ipynb\" target=\"_parent\"><img src=\"https://colab.research.google.com/assets/colab-badge.svg\" alt=\"Open In Colab\"/></a>"
      ]
    },
    {
      "cell_type": "code",
      "execution_count": null,
      "metadata": {
        "colab": {
          "base_uri": "https://localhost:8080/"
        },
        "id": "N_MvCpz18qfF",
        "outputId": "a372268a-6c32-4bef-be67-7e337b668566"
      },
      "outputs": [
        {
          "output_type": "stream",
          "name": "stdout",
          "text": [
            "          Name  Predicted Ideal Correspondance\n",
            "0     Daniel A                      252.116538\n",
            "1       Lucy M                      272.865316\n",
            "2    Georgie R                      272.865316\n",
            "3      Lukas L                      170.740713\n",
            "4     George G                      209.946570\n",
            "5   Isabelle P                      255.080649\n",
            "6        Irene                       68.616110\n",
            "7          Ted                       68.616110\n",
            "8       Bailey                       68.616110\n",
            "9      Shauna                       158.884268\n",
            "10       Zosia                      158.884268\n",
            "11      Dulant                      113.750189\n",
            "12    Stella M                      116.714300\n",
            "13     James H                      116.714300\n",
            "14      Saul R                      113.750189\n",
            "15     Cynthia                      204.018348\n",
            "16      Angie                       164.812491\n",
            "17     Chris M                      209.946570\n",
            "18      Anouk                       158.884268\n",
            "19         Lys                      164.812491\n",
            "20    Rianna G                      249.152427\n",
            "21       Lydia                      119.678411\n",
            "22     Zindzi                       119.678411\n",
            "23       Kate                       113.750189\n",
            "24        Rui                       116.714300\n",
            "25       Lota                       131.534856\n",
            "26      Jamila                       68.616110\n",
            "Reminder: Time to message Dulant!\n",
            "Reminder: Time to message Lota !\n",
            "Reminder: Time to message Lukas L!\n",
            "Reminder: Time to message Lukas L!\n",
            "Reminder: Time to message Chris M!\n",
            "Reminder: Time to message Chris M!\n",
            "Reminder: Time to message James H!\n",
            "Reminder: Time to message Georgie R!\n",
            "Reminder: Time to message Georgie R!\n",
            "Reminder: Time to message Georgie R!\n",
            "Reminder: Time to message Lys!\n",
            "Reminder: Time to message Angie !\n",
            "Reminder: Time to message Zosia!\n",
            "Reminder: Time to message George G!\n",
            "Reminder: Time to message George G!\n",
            "Reminder: Time to message Isabelle P!\n",
            "Reminder: Time to message Isabelle P!\n",
            "Reminder: Time to message Isabelle P!\n",
            "Reminder: Time to message Anouk !\n",
            "Reminder: Time to message Kate !\n",
            "Reminder: Time to message Lydia!\n",
            "Reminder: Time to message Zindzi !\n",
            "Reminder: Time to message Rianna G!\n",
            "Reminder: Time to message Rianna G!\n",
            "Reminder: Time to message Cynthia!\n",
            "Reminder: Time to message Cynthia!\n",
            "Reminder: Time to message Lucy M!\n",
            "Reminder: Time to message Lucy M!\n",
            "Reminder: Time to message Lucy M!\n",
            "Reminder: Time to message Rui !\n",
            "Reminder: Time to message Saul R!\n",
            "Reminder: Time to message Daniel A!\n",
            "Reminder: Time to message Daniel A!\n",
            "Reminder: Time to message Daniel A!\n",
            "Reminder: Time to message Stella M!\n",
            "Reminder: Time to message Shauna !\n"
          ]
        }
      ],
      "source": [
        "\n",
        "import matplotlib.pyplot as plt\n",
        "import pandas as pd\n",
        "from sklearn.model_selection import train_test_split\n",
        "from sklearn.linear_model import LinearRegression\n",
        "from sklearn.metrics import mean_squared_error, r2_score\n",
        "\n",
        "plt.rcParams[\"figure.figsize\"] = [20, 3.50]\n",
        "plt.rcParams[\"figure.autolayout\"] = True\n",
        "\n",
        "columns = ['Name', 'Mean correspondance', 'ideal freq of correspondance a week', 'Duration of relationship(yrs)', 'level of closeness']\n",
        "df = pd.read_csv(\"FCP.csv\")\n",
        "\n",
        "X = df[['Duration of relationship(yrs)', 'level of closeness']]\n",
        "y = df['ideal freq of correspondance a week']\n",
        "names = df['Name']\n",
        "\n",
        "X_train, X_test, y_train, y_test = train_test_split(X, y, test_size=0.2, random_state=42)\n",
        "\n",
        "\n",
        "model = LinearRegression()\n",
        "model.fit(X_train, y_train)\n",
        "\n",
        "ideal_freq_pred = model.predict(X)\n",
        "notifications_df = pd.DataFrame({'Name': names, 'Predicted Ideal Correspondance': ideal_freq_pred})\n",
        "\n",
        "print(notifications_df)\n",
        "\n",
        "import time\n",
        "import random\n",
        "import pandas as pd\n",
        "\n",
        "def send_notification(name):\n",
        "    print(f\"Reminder: Time to message {name}!\")\n",
        "\n",
        "notifications_df_shuffled = notifications_df.sample(frac=1)\n",
        "\n",
        "for index, row in notifications_df_shuffled.iterrows():\n",
        "    num_notifications = int(row['Predicted Ideal Correspondance'] / 7 / 12)\n",
        "    for _ in range(num_notifications):\n",
        "        send_notification(row['Name'])\n",
        "        time.sleep(10)\n",
        "\n",
        "\n"
      ]
    },
    {
      "cell_type": "code",
      "execution_count": null,
      "metadata": {
        "colab": {
          "base_uri": "https://localhost:8080/"
        },
        "id": "tIwpsMFKIvmq",
        "outputId": "c0be40ae-da4d-4eeb-b677-9fcfca82e696"
      },
      "outputs": [
        {
          "name": "stdout",
          "output_type": "stream",
          "text": [
            "Collecting colorama\n",
            "  Downloading colorama-0.4.6-py2.py3-none-any.whl (25 kB)\n",
            "Installing collected packages: colorama\n",
            "Successfully installed colorama-0.4.6\n"
          ]
        }
      ],
      "source": [
        "pip install colorama\n"
      ]
    },
    {
      "cell_type": "code",
      "execution_count": null,
      "metadata": {
        "colab": {
          "base_uri": "https://localhost:8080/",
          "height": 193
        },
        "id": "sWHboQgjI3pP",
        "outputId": "8c18868a-74fb-4865-f2d7-305368c748fe"
      },
      "outputs": [
        {
          "name": "stdout",
          "output_type": "stream",
          "text": [
            "🌟 Reminder: Georgie R, it's time to reach out! 🌟\n"
          ]
        },
        {
          "ename": "KeyboardInterrupt",
          "evalue": "",
          "output_type": "error",
          "traceback": [
            "\u001b[0;31m---------------------------------------------------------------------------\u001b[0m",
            "\u001b[0;31mKeyboardInterrupt\u001b[0m                         Traceback (most recent call last)",
            "\u001b[0;32m<ipython-input-10-de4a88c06354>\u001b[0m in \u001b[0;36m<cell line: 17>\u001b[0;34m()\u001b[0m\n\u001b[1;32m     19\u001b[0m     \u001b[0;32mfor\u001b[0m \u001b[0m_\u001b[0m \u001b[0;32min\u001b[0m \u001b[0mrange\u001b[0m\u001b[0;34m(\u001b[0m\u001b[0mnum_notifications\u001b[0m\u001b[0;34m)\u001b[0m\u001b[0;34m:\u001b[0m\u001b[0;34m\u001b[0m\u001b[0;34m\u001b[0m\u001b[0m\n\u001b[1;32m     20\u001b[0m         \u001b[0msend_notification\u001b[0m\u001b[0;34m(\u001b[0m\u001b[0mrow\u001b[0m\u001b[0;34m[\u001b[0m\u001b[0;34m'Name'\u001b[0m\u001b[0;34m]\u001b[0m\u001b[0;34m)\u001b[0m\u001b[0;34m\u001b[0m\u001b[0;34m\u001b[0m\u001b[0m\n\u001b[0;32m---> 21\u001b[0;31m         \u001b[0mtime\u001b[0m\u001b[0;34m.\u001b[0m\u001b[0msleep\u001b[0m\u001b[0;34m(\u001b[0m\u001b[0;36m30\u001b[0m\u001b[0;34m)\u001b[0m  \u001b[0;31m# Pause for 30 seconds between each notification\u001b[0m\u001b[0;34m\u001b[0m\u001b[0;34m\u001b[0m\u001b[0m\n\u001b[0m",
            "\u001b[0;31mKeyboardInterrupt\u001b[0m: "
          ]
        }
      ],
      "source": [
        "import time\n",
        "import random\n",
        "from colorama import init, Fore, Style\n",
        "\n",
        "\n",
        "init(autoreset=True)\n",
        "\n",
        "def send_notification(name):\n",
        "\n",
        "    message = f\"{Fore.GREEN}{Style.BRIGHT}🌟 Reminder: {Fore.CYAN}{name}, it's time to reach out! 🌟{Style.RESET_ALL}\"\n",
        "    print(message)\n",
        "\n",
        "notifications_df_shuffled = notifications_df.sample(frac=1)\n",
        "\n",
        "\n",
        "for index, row in notifications_df_shuffled.iterrows():\n",
        "    num_notifications = int(row['Predicted Ideal Correspondance'] / 7 / 12)\n",
        "    for _ in range(num_notifications):\n",
        "        send_notification(row['Name'])\n",
        "        time.sleep(30)  # Pause for 30 seconds between each notification\n"
      ]
    },
    {
      "cell_type": "code",
      "execution_count": 1,
      "metadata": {
        "colab": {
          "base_uri": "https://localhost:8080/",
          "height": 385
        },
        "id": "8oSxRxjyI9vf",
        "outputId": "2ca671b8-6962-4615-9d83-32dbc69888f0"
      },
      "outputs": [
        {
          "output_type": "error",
          "ename": "ModuleNotFoundError",
          "evalue": "No module named 'colorama'",
          "traceback": [
            "\u001b[0;31m---------------------------------------------------------------------------\u001b[0m",
            "\u001b[0;31mModuleNotFoundError\u001b[0m                       Traceback (most recent call last)",
            "\u001b[0;32m<ipython-input-1-b5796f1e36cf>\u001b[0m in \u001b[0;36m<cell line: 7>\u001b[0;34m()\u001b[0m\n\u001b[1;32m      5\u001b[0m \u001b[0;32mfrom\u001b[0m \u001b[0msklearn\u001b[0m\u001b[0;34m.\u001b[0m\u001b[0mmodel_selection\u001b[0m \u001b[0;32mimport\u001b[0m \u001b[0mtrain_test_split\u001b[0m\u001b[0;34m\u001b[0m\u001b[0;34m\u001b[0m\u001b[0m\n\u001b[1;32m      6\u001b[0m \u001b[0;32mfrom\u001b[0m \u001b[0msklearn\u001b[0m\u001b[0;34m.\u001b[0m\u001b[0mlinear_model\u001b[0m \u001b[0;32mimport\u001b[0m \u001b[0mLinearRegression\u001b[0m\u001b[0;34m\u001b[0m\u001b[0;34m\u001b[0m\u001b[0m\n\u001b[0;32m----> 7\u001b[0;31m \u001b[0;32mfrom\u001b[0m \u001b[0mcolorama\u001b[0m \u001b[0;32mimport\u001b[0m \u001b[0minit\u001b[0m\u001b[0;34m\u001b[0m\u001b[0;34m\u001b[0m\u001b[0m\n\u001b[0m\u001b[1;32m      8\u001b[0m \u001b[0;34m\u001b[0m\u001b[0m\n\u001b[1;32m      9\u001b[0m \u001b[0minit\u001b[0m\u001b[0;34m(\u001b[0m\u001b[0mautoreset\u001b[0m\u001b[0;34m=\u001b[0m\u001b[0;32mTrue\u001b[0m\u001b[0;34m)\u001b[0m\u001b[0;34m\u001b[0m\u001b[0;34m\u001b[0m\u001b[0m\n",
            "\u001b[0;31mModuleNotFoundError\u001b[0m: No module named 'colorama'",
            "",
            "\u001b[0;31m---------------------------------------------------------------------------\u001b[0;32m\nNOTE: If your import is failing due to a missing package, you can\nmanually install dependencies using either !pip or !apt.\n\nTo view examples of installing some common dependencies, click the\n\"Open Examples\" button below.\n\u001b[0;31m---------------------------------------------------------------------------\u001b[0m\n"
          ],
          "errorDetails": {
            "actions": [
              {
                "action": "open_url",
                "actionText": "Open Examples",
                "url": "/notebooks/snippets/importing_libraries.ipynb"
              }
            ]
          }
        }
      ],
      "source": [
        "import tkinter as tk\n",
        "import time\n",
        "import random\n",
        "import pandas as pd\n",
        "from sklearn.model_selection import train_test_split\n",
        "from sklearn.linear_model import LinearRegression\n",
        "from colorama import init\n",
        "\n",
        "init(autoreset=True)\n",
        "\n",
        "plt.rcParams[\"figure.figsize\"] = [20, 3.50]\n",
        "plt.rcParams[\"figure.autolayout\"] = True\n",
        "\n",
        "\n",
        "columns = ['Name', 'Mean correspondance', 'ideal freq of correspondance a week', 'Duration of relationship(yrs)', 'level of closeness']\n",
        "df = pd.read_csv(\"FCP.csv\")\n",
        "\n",
        "\n",
        "X = df[['Duration of relationship(yrs)', 'level of closeness']]\n",
        "y = df['ideal freq of correspondance a week']\n",
        "names = df['Name']\n",
        "\n",
        "X_train, X_test, y_train, y_test = train_test_split(X, y, test_size=0.2, random_state=42)\n",
        "\n",
        "model = LinearRegression()\n",
        "model.fit(X_train, y_train)\n",
        "\n",
        "ideal_freq_pred = model.predict(X)\n",
        "\n",
        "\n",
        "notifications_df = pd.DataFrame({'Name': names, 'Predicted Ideal Correspondance': ideal_freq_pred})\n",
        "notifications_df['Daily Correspondance'] = notifications_df['Predicted Ideal Correspondance'] / 7\n",
        "\n",
        "\n",
        "print(notifications_df)\n",
        "\n",
        "\n",
        "def send_notification(name):\n",
        "\n",
        "    notification_window = tk.Tk()\n",
        "    notification_window.title(\"Notification\")\n",
        "\n",
        "\n",
        "    notification_window.geometry(\"300x150\")\n",
        "\n",
        "    message = tk.Label(notification_window, text=f\"Reminder: Time to message {name}!\", font=(\"Arial\", 14))\n",
        "    message.pack(pady=20)\n",
        "\n",
        "\n",
        "    notification_window.mainloop()\n",
        "\n",
        "# randomizes the order of names\n",
        "notifications_df_shuffled = notifications_df.sample(frac=1)\n",
        "\n",
        "# Loop through shuffled DataFrame to send notifications\n",
        "for index, row in notifications_df_shuffled.iterrows():\n",
        "    num_notifications = int(row['Predicted Ideal Correspondance'] / 7 / 12)\n",
        "    for _ in range(num_notifications):\n",
        "        send_notification(row['Name'])\n",
        "        time.sleep(30)  # 30 sec intervals betwen notifs\n"
      ]
    },
    {
      "cell_type": "code",
      "execution_count": null,
      "metadata": {
        "colab": {
          "base_uri": "https://localhost:8080/"
        },
        "id": "u0TCrilYNV9M",
        "outputId": "73e3fed0-feb5-4305-a1ee-d3d2fd78af19"
      },
      "outputs": [
        {
          "name": "stdout",
          "output_type": "stream",
          "text": [
            "Requirement already satisfied: rich in /usr/local/lib/python3.10/dist-packages (13.7.1)\n",
            "Requirement already satisfied: markdown-it-py>=2.2.0 in /usr/local/lib/python3.10/dist-packages (from rich) (3.0.0)\n",
            "Requirement already satisfied: pygments<3.0.0,>=2.13.0 in /usr/local/lib/python3.10/dist-packages (from rich) (2.16.1)\n",
            "Requirement already satisfied: mdurl~=0.1 in /usr/local/lib/python3.10/dist-packages (from markdown-it-py>=2.2.0->rich) (0.1.2)\n"
          ]
        }
      ],
      "source": [
        "pip install rich\n"
      ]
    }
  ],
  "metadata": {
    "colab": {
      "provenance": [],
      "authorship_tag": "ABX9TyOYI2UcSnl1bDSU4+cYQBvv",
      "include_colab_link": true
    },
    "kernelspec": {
      "display_name": "Python 3",
      "name": "python3"
    },
    "language_info": {
      "name": "python"
    }
  },
  "nbformat": 4,
  "nbformat_minor": 0
}